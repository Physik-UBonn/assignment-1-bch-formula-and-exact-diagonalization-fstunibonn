{
 "cells": [
  {
   "cell_type": "code",
   "execution_count": 1,
   "metadata": {},
   "outputs": [],
   "source": [
    "import numpy as np"
   ]
  },
  {
   "cell_type": "markdown",
   "metadata": {},
   "source": [
    "# H.3 a)"
   ]
  },
  {
   "cell_type": "code",
   "execution_count": 13,
   "metadata": {},
   "outputs": [
    {
     "name": "stdout",
     "output_type": "stream",
     "text": [
      "Eigenvalues: [ 0.75 -0.25 -0.25 -0.25] \n",
      "\n",
      "Eigenvectors:\n",
      " [[ 0.          0.          1.          0.        ]\n",
      " [-0.70710678  0.70710678  0.          0.        ]\n",
      " [ 0.70710678  0.70710678  0.          0.        ]\n",
      " [ 0.          0.          0.          1.        ]] \n",
      "\n"
     ]
    }
   ],
   "source": [
    "# L = 2\n",
    "\n",
    "H_2 = -1/4 * np.matrix([\n",
    "    [1, 0, 0, 0],\n",
    "    [0, -1, 2, 0],\n",
    "    [0, 2, -1, 0],\n",
    "    [0, 0, 0, 1]\n",
    "])\n",
    "\n",
    "eigenvals2, eigenvecs2 = np.linalg.eig(H_2)\n",
    "\n",
    "print(\"Eigenvalues:\", eigenvals2, '\\n')\n",
    "print(\"Eigenvectors:\\n\", eigenvecs2, '\\n')\n"
   ]
  },
  {
   "cell_type": "code",
   "execution_count": 14,
   "metadata": {},
   "outputs": [
    {
     "name": "stdout",
     "output_type": "stream",
     "text": [
      "Eigenvalues: [ 1.  -0.  -0.5  1.  -0.5  0.  -0.5 -0.5] \n",
      "\n",
      "Eigenvectors:\n",
      " [[ 0.       0.       0.       0.       0.       0.       1.       0.     ]\n",
      " [ 0.       0.       0.      -0.40825 -0.57735  0.70711  0.       0.     ]\n",
      " [ 0.       0.       0.       0.8165  -0.57735 -0.       0.       0.     ]\n",
      " [-0.40825  0.70711  0.57735  0.       0.       0.       0.       0.     ]\n",
      " [ 0.       0.       0.      -0.40825 -0.57735 -0.70711  0.       0.     ]\n",
      " [ 0.8165   0.       0.57735  0.       0.       0.       0.       0.     ]\n",
      " [-0.40825 -0.70711  0.57735  0.       0.       0.       0.       0.     ]\n",
      " [ 0.       0.       0.       0.       0.       0.       0.       1.     ]] \n",
      "\n"
     ]
    }
   ],
   "source": [
    "# L = 3\n",
    "\n",
    "H_3 = -1/2 * np.matrix([\n",
    "    [1, 0, 0, 0, 0, 0, 0, 0],\n",
    "    [0, 0, 1, 0, 0, 0, 0, 0],\n",
    "    [0, 1, -1, 0, 1, 0, 0, 0],\n",
    "    [0, 0, 0, 0, 0, 1, 0, 0],\n",
    "    [0, 0, 1, 0, 0, 0, 0, 0],\n",
    "    [0, 0, 0, 1, 0, -1, 1, 0],\n",
    "    [0, 0, 0, 0, 0, 1, 0, 0],\n",
    "    [0, 0, 0, 0, 0, 0, 0, 1]\n",
    "])\n",
    "\n",
    "eigenvals3, eigenvecs3 = np.linalg.eig(H_3)\n",
    "\n",
    "print(\"Eigenvalues:\", np.round(eigenvals3, 5), '\\n')\n",
    "print(\"Eigenvectors:\\n\", np.round(eigenvecs3, 5), '\\n')\n"
   ]
  },
  {
   "cell_type": "markdown",
   "metadata": {},
   "source": [
    "# H.3 b)"
   ]
  },
  {
   "cell_type": "code",
   "execution_count": 19,
   "metadata": {},
   "outputs": [],
   "source": [
    "# transformation matrix P\n",
    "\n",
    "P = [np.matrix(eigenvecs2), np.matrix(eigenvecs3)]\n",
    "H_diag = [np.diag(eigenvals2), np.diag(eigenvals3)]\n",
    "\n",
    "\n",
    "# time evolution operator\n",
    "\n",
    "def U(t, L):\n",
    "    PL = P[L%2]\n",
    "    HL = H_diag[L%2]\n",
    "\n",
    "    return PL * np.exp(-1j * HL * t) * PL.T"
   ]
  },
  {
   "cell_type": "code",
   "execution_count": 22,
   "metadata": {},
   "outputs": [
    {
     "data": {
      "text/plain": [
       "matrix([[ 0.9689+0.2474j,  0.    +0.j    ,  1.4142+0.j    ,\n",
       "          1.    +0.j    ],\n",
       "        [ 0.    +0.j    , -0.1497-0.2171j,  0.1186+0.4645j,\n",
       "          0.    +0.j    ],\n",
       "        [ 1.4142+0.j    ,  0.1186+0.4645j,  1.8503-0.2171j,\n",
       "          1.4142+0.j    ],\n",
       "        [ 1.    +0.j    ,  0.    +0.j    ,  1.4142+0.j    ,\n",
       "          0.9689+0.2474j]])"
      ]
     },
     "execution_count": 22,
     "metadata": {},
     "output_type": "execute_result"
    }
   ],
   "source": [
    "# test call\n",
    "\n",
    "np.round(U(1, 2), 4)"
   ]
  },
  {
   "cell_type": "code",
   "execution_count": null,
   "metadata": {},
   "outputs": [],
   "source": []
  }
 ],
 "metadata": {
  "kernelspec": {
   "display_name": "TEQS kernel",
   "language": "python",
   "name": "teqs"
  },
  "language_info": {
   "codemirror_mode": {
    "name": "ipython",
    "version": 3
   },
   "file_extension": ".py",
   "mimetype": "text/x-python",
   "name": "python",
   "nbconvert_exporter": "python",
   "pygments_lexer": "ipython3",
   "version": "3.13.2"
  }
 },
 "nbformat": 4,
 "nbformat_minor": 2
}
